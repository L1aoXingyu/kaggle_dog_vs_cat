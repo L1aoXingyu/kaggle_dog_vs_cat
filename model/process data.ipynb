{
 "cells": [
  {
   "cell_type": "code",
   "execution_count": 1,
   "metadata": {
    "collapsed": true
   },
   "outputs": [],
   "source": [
    "__author__ = 'SherlockLiao'"
   ]
  },
  {
   "cell_type": "markdown",
   "metadata": {
    "deletable": true,
    "editable": true
   },
   "source": [
    "### process directory and data"
   ]
  },
  {
   "cell_type": "code",
   "execution_count": 3,
   "metadata": {
    "collapsed": true,
    "deletable": true,
    "editable": true
   },
   "outputs": [],
   "source": [
    "import os\n",
    "import shutil"
   ]
  },
  {
   "cell_type": "markdown",
   "metadata": {
    "deletable": true,
    "editable": true
   },
   "source": [
    "### create dog directory and cat directory"
   ]
  },
  {
   "cell_type": "code",
   "execution_count": 19,
   "metadata": {
    "collapsed": false
   },
   "outputs": [],
   "source": [
    "os.mkdir('/home/sherlock/Documents/kaggle_dog_vs_cat/data')\n",
    "os.mkdir('/home/sherlock/Documents/kaggle_dog_vs_cat/data/train')\n",
    "os.mkdir('/home/sherlock/Documents/kaggle_dog_vs_cat/data/val')"
   ]
  },
  {
   "cell_type": "code",
   "execution_count": 20,
   "metadata": {
    "collapsed": true
   },
   "outputs": [],
   "source": [
    "train_root = '/home/sherlock/Documents/kaggle_dog_vs_cat/data/train'\n",
    "dog_folder = os.path.join(train_root, 'dog')\n",
    "cat_folder = os.path.join(train_root, 'cat')\n",
    "os.mkdir(dog_folder)\n",
    "os.mkdir(cat_folder)"
   ]
  },
  {
   "cell_type": "code",
   "execution_count": 21,
   "metadata": {
    "collapsed": false
   },
   "outputs": [],
   "source": [
    "val_root = '/home/sherlock/Documents/kaggle_dog_vs_cat/data/val'\n",
    "dog_folder = os.path.join(val_root, 'dog')\n",
    "cat_folder = os.path.join(val_root, 'cat')\n",
    "os.mkdir(dog_folder)\n",
    "os.mkdir(cat_folder)"
   ]
  },
  {
   "cell_type": "markdown",
   "metadata": {
    "deletable": true,
    "editable": true
   },
   "source": [
    "### move the dog pictures and cat pictures into dog directory and cat directory respectively"
   ]
  },
  {
   "cell_type": "code",
   "execution_count": 6,
   "metadata": {
    "collapsed": false,
    "deletable": true,
    "editable": true
   },
   "outputs": [],
   "source": [
    "data_file = os.listdir('/home/sherlock/Documents/kaggle_dog_vs_cat/train')"
   ]
  },
  {
   "cell_type": "code",
   "execution_count": 8,
   "metadata": {
    "collapsed": true,
    "deletable": true,
    "editable": true
   },
   "outputs": [],
   "source": [
    "dog_file = list(filter(lambda x: x[:3]=='dog', data_file))\n",
    "cat_file = list(filter(lambda x: x[:3]=='cat', data_file))"
   ]
  },
  {
   "cell_type": "code",
   "execution_count": 22,
   "metadata": {
    "collapsed": false
   },
   "outputs": [],
   "source": [
    "for i in range(len(dog_file)):\n",
    "    pic_path = '/home/sherlock/Documents/kaggle_dog_vs_cat/train/' + dog_file[i]\n",
    "    if i < len(dog_file)*0.9:\n",
    "        obj_path = '/home/sherlock/Documents/kaggle_dog_vs_cat/data/train/dog/' + dog_file[i]\n",
    "    else:\n",
    "        obj_path = '/home/sherlock/Documents/kaggle_dog_vs_cat/data/val/dog/' + dog_file[i]\n",
    "    shutil.move(pic_path, obj_path)"
   ]
  },
  {
   "cell_type": "code",
   "execution_count": 23,
   "metadata": {
    "collapsed": false
   },
   "outputs": [],
   "source": [
    "for i in range(len(cat_file)):\n",
    "    pic_path = '/home/sherlock/Documents/kaggle_dog_vs_cat/train/' + cat_file[i]\n",
    "    if i < len(dog_file)*0.9:\n",
    "        obj_path = '/home/sherlock/Documents/kaggle_dog_vs_cat/data/train/cat/' + cat_file[i]\n",
    "    else:\n",
    "        obj_path = '/home/sherlock/Documents/kaggle_dog_vs_cat/data/val/cat/' + cat_file[i]\n",
    "    shutil.move(pic_path, obj_path)"
   ]
  }
 ],
 "metadata": {
  "anaconda-cloud": {},
  "kernelspec": {
   "display_name": "Python [default]",
   "language": "python",
   "name": "python3"
  },
  "language_info": {
   "codemirror_mode": {
    "name": "ipython",
    "version": 3
   },
   "file_extension": ".py",
   "mimetype": "text/x-python",
   "name": "python",
   "nbconvert_exporter": "python",
   "pygments_lexer": "ipython3",
   "version": "3.5.2"
  }
 },
 "nbformat": 4,
 "nbformat_minor": 2
}
